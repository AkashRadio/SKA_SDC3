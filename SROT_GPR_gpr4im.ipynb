{
 "cells": [
  {
   "cell_type": "code",
   "execution_count": 1,
   "id": "07942833",
   "metadata": {},
   "outputs": [],
   "source": [
    "import time\n",
    "starttime = time.time()\n",
    "import numpy as np\n",
    "from astropy.io import fits\n",
    "import matplotlib.pyplot as plt\n",
    "import GPy\n",
    "\n",
    "import pandas as pd\n",
    "from gpr4im import pk_tools as pk\n",
    "from gpr4im import fg_tools as fg\n",
    "\n",
    "Image = fits.open('/mnt/sdc3a.MS.0/sdc3dataset/Image/ZW3.msn_image.fits')\n",
    "data = Image[0].data\n",
    "Image.close()\n",
    "\n",
    "\n",
    "data_r= np.transpose(data, (1, 2, 0))\n"
   ]
  },
  {
   "cell_type": "code",
   "execution_count": 2,
   "id": "b38a8e1b",
   "metadata": {},
   "outputs": [],
   "source": [
    "def pt(text):\n",
    "    file = open(r\"Logs/Log27_07_2023_22_10.txt\",\"a+\")\n",
    "    file.write(text)\n",
    "    file.write('\\n')\n",
    "    file.close()\n",
    "    return\n",
    "\n",
    "def System_status():\n",
    "    # Importing the library\n",
    "    import time\n",
    "    import psutil\n",
    "    # Getting usage of virtual_memory in GB ( 4th field)\n",
    "    Mem = psutil.virtual_memory()[3]/1000000000\n",
    "    pt(f'RAM Used (GB):{Mem}')\n",
    "    endtime = time.time()\n",
    "    hours=(endtime-starttime)/3600\n",
    "    pt(f\"Time taken {hours} Hr\") \n",
    "    print(f\"Time taken {hours} Hr\") \n",
    "    return\n",
    "\n",
    "def Type_Size(Input_variable):\n",
    "    import sys\n",
    "    \n",
    "    pt(type(Input_variable))\n",
    "    pt(np.shape(Input_variable))\n",
    "    pt(sys.getsizeof(Input_variable))\n",
    "    return\n",
    "\n",
    "def BrightnessTemp (Intensity_Data_Cube,Start_frequency,Total_subbands):\n",
    "\n",
    "    pt(\"BrightnessTemp:\")\n",
    "    #beam discription for the SKASDCa project\n",
    "    Bmaj = 0.0553607952110976\n",
    "    Bmin = 0.0411477702279064\n",
    "    t_maj = Bmaj*np.pi/180\n",
    "    t_min = Bmin*np.pi/180\n",
    "    T_data = np.zeros(np.shape(Intensity_Data_Cube))\n",
    "    C=1222/(t_maj*t_min)\n",
    "    for i in range (Total_subbands):\n",
    "        f_l = i*0.1*1e6\n",
    "        v = Start_frequency+f_l\n",
    "        T_data[:,:,i]=(C/(v*v))*Intensity_Data_Cube[:,:,i]\n",
    "            \n",
    "    pt(\"Convertion completed.\")\n",
    "\n",
    "    return T_data\n",
    "\n",
    "def frange(fmin,fmax):\n",
    "    df = (fmax-fmin)/150\n",
    "    return np.arange(fmin,fmax,df)\n",
    "\n",
    "def calculate_redshift(Omega_m, Omega_lambda, H0):\n",
    "    # Calculate the critical density\n",
    "    rho_critical = (3 * (H0**2)) / (8 * np.pi * 6.67430e-11)\n",
    "    \n",
    "    # Calculate the matter density\n",
    "    rho_m = Omega_m * rho_critical\n",
    "    \n",
    "    # Calculate the dark energy density\n",
    "    rho_lambda = Omega_lambda * rho_critical\n",
    "    \n",
    "    # Calculate the redshift\n",
    "    redshift = ((rho_lambda / rho_m) ** (1/3)) - 1\n",
    "    \n",
    "    return redshift\n"
   ]
  },
  {
   "cell_type": "code",
   "execution_count": 3,
   "id": "608eb9ee",
   "metadata": {},
   "outputs": [],
   "source": [
    "Data1=data_r[:,:,0:150]\n",
    "Data2=data_r[:,:,150:300]\n",
    "Data3=data_r[:,:,300:450]\n",
    "Data4=data_r[:,:,450:600]\n",
    "Data5=data_r[:,:,600:750]\n",
    "Data6=data_r[:,:,750:900]"
   ]
  },
  {
   "cell_type": "code",
   "execution_count": 4,
   "id": "09f89a9b",
   "metadata": {},
   "outputs": [
    {
     "data": {
      "text/plain": [
       "(2048, 2048, 150)"
      ]
     },
     "execution_count": 4,
     "metadata": {},
     "output_type": "execute_result"
    }
   ],
   "source": [
    "np.shape(Data6)"
   ]
  },
  {
   "cell_type": "code",
   "execution_count": 5,
   "id": "ae8ba77f",
   "metadata": {},
   "outputs": [],
   "source": [
    "freqs1 = frange(106,121)\n",
    "freqs2 = frange(121,136)\n",
    "freqs3 = frange(136,151)\n",
    "freqs4 = frange(151,166)\n",
    "freqs5 = frange(166,181)\n",
    "freqs6 = frange(181,196)"
   ]
  },
  {
   "cell_type": "code",
   "execution_count": 6,
   "id": "e2edd4b8",
   "metadata": {},
   "outputs": [],
   "source": [
    "# kernel for the smooth foreground:\n",
    "kern_fg = GPy.kern.RBF(1)\n",
    "# kernel for the HI cosmological signal:\n",
    "kern_21 = GPy.kern.Exponential(1)"
   ]
  },
  {
   "cell_type": "code",
   "execution_count": 7,
   "id": "b9d5c9f0",
   "metadata": {},
   "outputs": [
    {
     "name": "stderr",
     "output_type": "stream",
     "text": [
      "reconstraining parameters rbf.variance\n",
      "reconstraining parameters rbf.lengthscale\n",
      "reconstraining parameters Exponential.variance\n",
      "reconstraining parameters Exponential.lengthscale\n"
     ]
    }
   ],
   "source": [
    "# setting priors for the smooth foreground kernel:\n",
    "kern_fg.variance.constrain_bounded(1000,100000000)\n",
    "kern_fg.lengthscale.constrain_bounded(200,10000)\n",
    "# setting priors for the HI kernel:\n",
    "kern_21.variance.constrain_bounded(0.000001,0.5)\n",
    "kern_21.lengthscale.constrain_bounded(0.01,15)"
   ]
  },
  {
   "cell_type": "code",
   "execution_count": 8,
   "id": "37f4e50c",
   "metadata": {},
   "outputs": [],
   "source": [
    "kern = kern_fg + kern_21"
   ]
  },
  {
   "cell_type": "code",
   "execution_count": 9,
   "id": "c9f6d03a",
   "metadata": {},
   "outputs": [],
   "source": [
    "num_restarts = 1\n",
    "NprePCA = 0\n",
    "noise_data = None\n",
    "zero_noise = True\n",
    "heteroscedastic = False\n",
    "invert = False"
   ]
  },
  {
   "cell_type": "code",
   "execution_count": 10,
   "id": "a6458e6f",
   "metadata": {},
   "outputs": [
    {
     "name": "stdout",
     "output_type": "stream",
     "text": [
      "Redshift: 0.3063900192746536\n"
     ]
    }
   ],
   "source": [
    "\n",
    "Omega_m = 0.30964\n",
    "Omega_lambda = 0.69036\n",
    "H0 = 100\n",
    "\n",
    "redshift = calculate_redshift(Omega_m, Omega_lambda, H0)\n",
    "print(\"Redshift:\", redshift)"
   ]
  },
  {
   "cell_type": "code",
   "execution_count": 11,
   "id": "cf5d7387",
   "metadata": {},
   "outputs": [
    {
     "name": "stdout",
     "output_type": "stream",
     "text": [
      "[193.00139342 193.00139342 321.19433519]\n"
     ]
    }
   ],
   "source": [
    "\n",
    "import numpy as np\n",
    "import tools21cm as t2c\n",
    "\n",
    "A=  [9.0133,9.0133,15]\n",
    "Z =redshift#0.3063900192746536\n",
    "X  = t2c.cosmology.deg_to_cdist(A,Z)\n",
    "\n",
    "print(X)"
   ]
  },
  {
   "cell_type": "code",
   "execution_count": 12,
   "id": "30738d61",
   "metadata": {},
   "outputs": [],
   "source": [
    "# Grid dimension of data cube:\n",
    "#lx=F\n",
    "lx,ly,lz = X#Mpc/h\n",
    "nx,ny,nz = 2048,2048,150\n",
    "# weighting and window function:\n",
    "w = W = np.ones((nx,ny,nz))\n",
    "# number of k bins:\n",
    "nkbin = 10\n",
    "# setting array of k bin edges:\n",
    "kbins = [5.0e-02,1.0e-01,1.5e-01,2.0e-01,2.5e-01,3.0e-01,3.5e-01,4.0e-01,4.5e-01,5.0e-01]\n",
    "# setting array of k bin centers\"\n",
    "k = 5.0e-02"
   ]
  },
  {
   "cell_type": "code",
   "execution_count": 13,
   "id": "579996e5",
   "metadata": {},
   "outputs": [],
   "source": [
    "DATA=[Data1,Data2,Data3,Data4,Data5,Data6]\n",
    "F_R=[freqs1,freqs2,freqs3,freqs4,freqs5,freqs6]\n",
    "S_Freq = [106e6,121e6,136e6,151e6,166e6,181e6]\n",
    "Subbands = 150 #(15MHz *10subbands of 100KHz perMHz)\n",
    "S = ['Output/SROT_106.0MHz-121.0MHz.data','Output/SROT_121.0MHz-136.0MHz.data','Output/SROT_136.0MHz-151.0MHz.data',\n",
    "    'Output/SROT_151.0MHz-166.0MHz.data','Output/SROT_166.0MHz-181.0MHz.data','Output/SROT_181.0MHz-196.0MHz.data']\n",
    "E = ['Output/SROT_106.0MHz-121.0MHz_errors.data','Output/SROT_121.0MHz-136.0MHz_errors.data','Output/SROT_136.0MHz-151.0MHz_errors.data',\n",
    "    'Output/SROT_151.0MHz-166.0MHz_errors.data','Output/SROT_166.0MHz-181.0MHz_errors.data','Output/SROT_181.0MHz-196.0MHz_errors.data']\n",
    "\n"
   ]
  },
  {
   "cell_type": "code",
   "execution_count": 14,
   "id": "3ef73fd5",
   "metadata": {},
   "outputs": [
    {
     "name": "stdout",
     "output_type": "stream",
     "text": [
      "Time taken 0.0017442482709884644 Hr\n",
      "Start of 00 th loop\n",
      "Time taken 0.0017447336514790854 Hr\n",
      "Optimization restart 1/1, f = -3511601746.2305126\n",
      "\n",
      "Calculating P(k_perp,k_para)...\n",
      "End of 00 th loop\n",
      "Time taken 0.8538006748755773 Hr\n",
      "Start of 01 th loop\n",
      "Time taken 0.8538008456097709 Hr\n",
      "Optimization restart 1/1, f = -3511601746.2305126\n",
      "\n",
      "Calculating P(k_perp,k_para)...\n",
      "End of 01 th loop\n",
      "Time taken 1.714610135157903 Hr\n",
      "End main of 0 th loop\n",
      "Time taken 1.7146111992994943 Hr\n",
      "Start of 10 th loop\n",
      "Time taken 1.714711573521296 Hr\n",
      "Optimization restart 1/1, f = -3591458487.9252186\n",
      "\n",
      "Calculating P(k_perp,k_para)...\n",
      "End of 10 th loop\n",
      "Time taken 2.648860153887007 Hr\n",
      "Start of 11 th loop\n",
      "Time taken 2.6488603762785594 Hr\n",
      "Optimization restart 1/1, f = -3591458487.9252186\n",
      "\n",
      "Calculating P(k_perp,k_para)...\n",
      "End of 11 th loop\n",
      "Time taken 3.564819830854734 Hr\n",
      "End main of 1 th loop\n",
      "Time taken 3.564820890360408 Hr\n",
      "Start of 20 th loop\n",
      "Time taken 3.564925046695603 Hr\n",
      "Optimization restart 1/1, f = -3632850356.985003\n",
      "\n",
      "Calculating P(k_perp,k_para)...\n",
      "End of 20 th loop\n",
      "Time taken 4.073573119242986 Hr\n",
      "Start of 21 th loop\n",
      "Time taken 4.073573317130407 Hr\n",
      "Optimization restart 1/1, f = -3632850356.985003\n",
      "\n",
      "Calculating P(k_perp,k_para)...\n",
      "End of 21 th loop\n",
      "Time taken 4.564906152354347 Hr\n",
      "End main of 2 th loop\n",
      "Time taken 4.564907353719075 Hr\n",
      "Start of 30 th loop\n",
      "Time taken 4.565006536973847 Hr\n",
      "Optimization restart 1/1, f = -3655730329.1612716\n",
      "\n",
      "Calculating P(k_perp,k_para)...\n",
      "End of 30 th loop\n",
      "Time taken 5.1463244745466445 Hr\n",
      "Start of 31 th loop\n",
      "Time taken 5.146324668725332 Hr\n",
      "Optimization restart 1/1, f = -3655730329.1612716\n",
      "\n",
      "Calculating P(k_perp,k_para)...\n",
      "End of 31 th loop\n",
      "Time taken 5.723976081212362 Hr\n",
      "End main of 3 th loop\n",
      "Time taken 5.723976973891258 Hr\n",
      "Start of 40 th loop\n",
      "Time taken 5.724064657621914 Hr\n",
      "Optimization restart 1/1, f = -3653135009.181922\n",
      "\n",
      "Calculating P(k_perp,k_para)...\n",
      "End of 40 th loop\n",
      "Time taken 6.227650746769375 Hr\n",
      "Start of 41 th loop\n",
      "Time taken 6.227650954458449 Hr\n",
      "Optimization restart 1/1, f = -3653135009.181922\n",
      "\n",
      "Calculating P(k_perp,k_para)...\n",
      "End of 41 th loop\n",
      "Time taken 6.721731679836909 Hr\n",
      "End main of 4 th loop\n",
      "Time taken 6.721732369992468 Hr\n",
      "Start of 50 th loop\n",
      "Time taken 6.721814795335134 Hr\n",
      "Optimization restart 1/1, f = -3692418043.052896\n",
      "\n",
      "Calculating P(k_perp,k_para)...\n",
      "End of 50 th loop\n",
      "Time taken 7.903696909613079 Hr\n",
      "Start of 51 th loop\n",
      "Time taken 7.903697130944994 Hr\n",
      "Optimization restart 1/1, f = -3692418043.052896\n",
      "\n",
      "Calculating P(k_perp,k_para)...\n",
      "End of 51 th loop\n",
      "Time taken 9.071863428884082 Hr\n",
      "End main of 5 th loop\n",
      "Time taken 9.071864419645733 Hr\n",
      "Time taken 9.071944479942323 Hr\n"
     ]
    }
   ],
   "source": [
    "import gc\n",
    "System_status()\n",
    "D = np.zeros(np.shape(DATA[0])) \n",
    "Gpr_Result =0\n",
    "Spect = np.zeros((9,9))\n",
    "Nmatrix = np.zeros((9,9))\n",
    "Arr= np.zeros((2,9,9))\n",
    "for i in range(len(DATA)):\n",
    "    Arr= np.zeros((2,9,9))\n",
    "    for j in range(2):\n",
    "        \n",
    "        print(f\"Start of {i}{j} th loop\")\n",
    "        pt(f\"Start of {i}{j} th loop\")\n",
    "        System_status()\n",
    "        Gpr_Result = fg.GPRclean(DATA[i], F_R[i], kern_fg, kern_21, NprePCA=NprePCA, num_restarts=num_restarts,\n",
    "                                             noise_data=noise_data, heteroscedastic=heteroscedastic, \n",
    "                                             zero_noise=zero_noise, invert=invert)\n",
    "    \n",
    "        D = BrightnessTemp(Gpr_Result.res,S_Freq[i],Subbands)\n",
    "        Spect,Nmatrix= pk.PerpParaPk(D,nx,ny,nz,lx,ly,lz,kbins,kbins,w,W)\n",
    "        Arr[j] = Spect\n",
    "        pt(f\"F={S_Freq[i]} \\n Spectrum{Spect}\")\n",
    "        print(f\"End of {i}{j} th loop\")\n",
    "        pt(f\"End of {i}{j} th loop\")\n",
    "        del D\n",
    "        del Gpr_Result \n",
    "        del Spect\n",
    "        del Nmatrix\n",
    "        \n",
    "        System_status()\n",
    "    spect = Arr.mean(axis=0)\n",
    "    np.savetxt(S[i],spect,delimiter = ' ')\n",
    "    spect_error = Arr.std(axis=0)\n",
    "    np.savetxt(E[i],spect_error,delimiter = ' ')\n",
    "    del Arr\n",
    "    print(f\"End main of {i} th loop\")\n",
    "    pt(f\"End main of {i} th loop\")\n",
    "    del spect\n",
    "    del spect_error\n",
    "    System_status()\n",
    "    gc.collect()\n",
    "System_status()   "
   ]
  },
  {
   "cell_type": "code",
   "execution_count": null,
   "id": "0a11defb",
   "metadata": {},
   "outputs": [],
   "source": []
  }
 ],
 "metadata": {
  "kernelspec": {
   "display_name": "Python 3 (ipykernel)",
   "language": "python",
   "name": "python3"
  },
  "language_info": {
   "codemirror_mode": {
    "name": "ipython",
    "version": 3
   },
   "file_extension": ".py",
   "mimetype": "text/x-python",
   "name": "python",
   "nbconvert_exporter": "python",
   "pygments_lexer": "ipython3",
   "version": "3.9.13"
  }
 },
 "nbformat": 4,
 "nbformat_minor": 5
}
